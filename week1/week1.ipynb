{
 "cells": [
  {
   "attachments": {},
   "cell_type": "markdown",
   "metadata": {},
   "source": [
    "## Installing jupyter\n",
    "```\n",
    "pyenv activate search_eng\n",
    "/home/gitpod/.pyenv/versions/3.9.7/envs/search_eng/bin/python3.9 -m pip install jupyter\n",
    "```"
   ]
  },
  {
   "cell_type": "code",
   "execution_count": 2,
   "metadata": {},
   "outputs": [],
   "source": [
    "import os\n",
    "\n",
    "import pandas as pd"
   ]
  },
  {
   "attachments": {},
   "cell_type": "markdown",
   "metadata": {},
   "source": [
    "## Level 1: Experimenting with indexing performance\n",
    "\n",
    "- Seems like using the default (aka dynamic) mappings is faster, probably because it's just using sensible defaults and ignoring data types\n",
    "- For details, the indexing above is done on the following fields\n",
    "```\n",
    "    \"sku\":\"sku/text()\",\n",
    "    \"productId\": \"productId/text()\",\n",
    "    \"name\": \"name/text()\",\n",
    "    \"type\":\"type/text()\",\n",
    "    \"shortDescription\": \"shortDescription/text()\",\n",
    "    \"startDate\": \"startDate/text()\",\n",
    "```\n",
    "- With the provided mappings, we're using these data types. Maybe the additional analyzers slow down indexing?\n",
    "```\n",
    "    \"sku\": {\n",
    "        \"type\": \"text\",\n",
    "        \"fields\": {\n",
    "          \"keyword\": {\n",
    "            \"type\": \"keyword\",\n",
    "            \"ignore_above\": 256\n",
    "          }\n",
    "        }\n",
    "    },\n",
    "    \"productId\": {\n",
    "        \"type\": \"long\"\n",
    "    },\n",
    "    \"name\": {\n",
    "        \"type\": \"text\",\n",
    "        \"analyzer\": \"english\",\n",
    "        \"fields\": {\n",
    "          \"keyword\": {\n",
    "            \"type\": \"keyword\",\n",
    "            \"ignore_above\": 2048\n",
    "          },\n",
    "          \"hyphens\": {\n",
    "            \"type\": \"text\",\n",
    "            \"analyzer\": \"smarter_hyphens\"\n",
    "          },\n",
    "          \"suggest\": {\n",
    "            \"type\": \"completion\"\n",
    "          }\n",
    "        }\n",
    "    },\n",
    "    \"type\": {\n",
    "        \"type\": \"text\",\n",
    "        \"fields\": {\n",
    "          \"keyword\": {\n",
    "            \"type\": \"keyword\",\n",
    "            \"ignore_above\": 256\n",
    "          }\n",
    "        }\n",
    "    },\n",
    "    \"shortDescription\": {\n",
    "        \"type\": \"text\",\n",
    "        \"analyzer\": \"english\"\n",
    "    },\n",
    "    \"startDate\": {\n",
    "        \"type\": \"date\"\n",
    "    },\n",
    "```"
   ]
  },
  {
   "cell_type": "code",
   "execution_count": 14,
   "metadata": {},
   "outputs": [],
   "source": [
    "os.environ['HOST'] = 'localhost'\n",
    "os.environ['BBUY_DATA'] = '/workspace/datasets/product_data/products/'"
   ]
  },
  {
   "cell_type": "code",
   "execution_count": 31,
   "metadata": {},
   "outputs": [],
   "source": [
    "# Set environment variables\n",
    "!export HOST=localhost\n",
    "!export BBUY_DATA=/workspace/datasets/product_data/products/"
   ]
  },
  {
   "cell_type": "code",
   "execution_count": 34,
   "metadata": {},
   "outputs": [
    {
     "name": "stdout",
     "output_type": "stream",
     "text": [
      "INFO:Indexing /workspace/datasets/product_data/products/ to bbuy_products with 8 workers, refresh_interval of -1 to host localhost with a maximum number of docs sent per file per worker of 200000 and 200 per batch.\n",
      "INFO:Done. 1275077 were indexed in 2.436928406183142 minutes.  Total accumulated time spent in `bulk` indexing: 10.582057921632561 minutes\n"
     ]
    }
   ],
   "source": [
    "# Index with provided field mappings\n",
    "!curl -k -X PUT -u admin:admin \"https://$HOST:9200/bbuy_products\" -H 'Content-Type: application/json' -d @/workspace/search_engineering/week1/bbuy_products.json\n",
    "!python index.py -s $BBUY_DATA"
   ]
  },
  {
   "cell_type": "code",
   "execution_count": 35,
   "metadata": {},
   "outputs": [
    {
     "name": "stdout",
     "output_type": "stream",
     "text": [
      "{\"acknowledged\":true}"
     ]
    }
   ],
   "source": [
    "# Delete index\n",
    "!curl -k -X DELETE -u admin:admin https://localhost:9200/bbuy_products"
   ]
  },
  {
   "cell_type": "code",
   "execution_count": 36,
   "metadata": {},
   "outputs": [
    {
     "name": "stdout",
     "output_type": "stream",
     "text": [
      "{\"acknowledged\":true,\"shards_acknowledged\":true,\"index\":\"bbuy_products\"}INFO:Indexing /workspace/datasets/product_data/products/ to bbuy_products with 8 workers, refresh_interval of -1 to host localhost with a maximum number of docs sent per file per worker of 200000 and 200 per batch.\n",
      "INFO:Done. 1275077 were indexed in 2.009230298833184 minutes.  Total accumulated time spent in `bulk` indexing: 7.754665959007495 minutes\n"
     ]
    }
   ],
   "source": [
    "# Index with default mappings\n",
    "!curl -k -X PUT -u admin:admin \"https://$HOST:9200/bbuy_products\" -H 'Content-Type: application/json' -d @/workspace/search_engineering/week1/bbuy_products_no_map.json\n",
    "!python index.py -s $BBUY_DATA"
   ]
  },
  {
   "attachments": {},
   "cell_type": "markdown",
   "metadata": {},
   "source": [
    "## Updating refresh intervals\n",
    "- Even though we're only indexing six fields, we see a difference 0.3 minute difference between 60s refresh and 1s refresh"
   ]
  },
  {
   "cell_type": "code",
   "execution_count": 37,
   "metadata": {},
   "outputs": [
    {
     "name": "stdout",
     "output_type": "stream",
     "text": [
      "{\"acknowledged\":true}{\"acknowledged\":true,\"shards_acknowledged\":true,\"index\":\"bbuy_products\"}INFO:Indexing /workspace/datasets/product_data/products/ to bbuy_products with 8 workers, refresh_interval of 60s to host localhost with a maximum number of docs sent per file per worker of 200000 and 200 per batch.\n",
      "INFO:Done. 1275077 were indexed in 1.9028761528495428 minutes.  Total accumulated time spent in `bulk` indexing: 7.048447553357497 minutes\n"
     ]
    }
   ],
   "source": [
    "# Delete index\n",
    "!curl -k -X DELETE -u admin:admin https://localhost:9200/bbuy_products\n",
    "\n",
    "# Index with default mappings\n",
    "!curl -k -X PUT -u admin:admin \"https://$HOST:9200/bbuy_products\" -H 'Content-Type: application/json' -d @/workspace/search_engineering/week1/bbuy_products_no_map.json\n",
    "!python index.py -s $BBUY_DATA --refresh_interval 60s"
   ]
  },
  {
   "cell_type": "code",
   "execution_count": 38,
   "metadata": {},
   "outputs": [
    {
     "name": "stdout",
     "output_type": "stream",
     "text": [
      "{\"acknowledged\":true}{\"acknowledged\":true,\"shards_acknowledged\":true,\"index\":\"bbuy_products\"}INFO:Indexing /workspace/datasets/product_data/products/ to bbuy_products with 8 workers, refresh_interval of 1s to host localhost with a maximum number of docs sent per file per worker of 200000 and 200 per batch.\n",
      "INFO:Done. 1275077 were indexed in 2.189135347933431 minutes.  Total accumulated time spent in `bulk` indexing: 8.229896282364885 minutes\n"
     ]
    }
   ],
   "source": [
    "# Delete index\n",
    "!curl -k -X DELETE -u admin:admin https://localhost:9200/bbuy_products\n",
    "\n",
    "# Index with default mappings\n",
    "!curl -k -X PUT -u admin:admin \"https://$HOST:9200/bbuy_products\" -H 'Content-Type: application/json' -d @/workspace/search_engineering/week1/bbuy_products_no_map.json\n",
    "!python index.py -s $BBUY_DATA --refresh_interval 1s"
   ]
  },
  {
   "attachments": {},
   "cell_type": "markdown",
   "metadata": {},
   "source": [
    "## Batch size\n",
    "- Hard to say what's going on but batch size >3200 and 800 seems to work best"
   ]
  },
  {
   "cell_type": "code",
   "execution_count": 41,
   "metadata": {},
   "outputs": [
    {
     "name": "stdout",
     "output_type": "stream",
     "text": [
      "{\"acknowledged\":true}{\"acknowledged\":true,\"shards_acknowledged\":true,\"index\":\"bbuy_products\"}INFO:Indexing /workspace/datasets/product_data/products/ to bbuy_products with 8 workers, refresh_interval of -1 to host localhost with a maximum number of docs sent per file per worker of 200000 and 400 per batch.\n",
      "INFO:Done. 1275077 were indexed in 2.32198421498324 minutes.  Total accumulated time spent in `bulk` indexing: 8.021191667257032 minutes\n"
     ]
    }
   ],
   "source": [
    "# Delete index\n",
    "!curl -k -X DELETE -u admin:admin https://localhost:9200/bbuy_products\n",
    "\n",
    "# Index with default mappings\n",
    "!curl -k -X PUT -u admin:admin \"https://$HOST:9200/bbuy_products\" -H 'Content-Type: application/json' -d @/workspace/search_engineering/week1/bbuy_products_no_map.json\n",
    "!python index.py -s $BBUY_DATA --batch_size 400"
   ]
  },
  {
   "cell_type": "code",
   "execution_count": 42,
   "metadata": {},
   "outputs": [
    {
     "name": "stdout",
     "output_type": "stream",
     "text": [
      "{\"acknowledged\":true}{\"acknowledged\":true,\"shards_acknowledged\":true,\"index\":\"bbuy_products\"}INFO:Indexing /workspace/datasets/product_data/products/ to bbuy_products with 8 workers, refresh_interval of -1 to host localhost with a maximum number of docs sent per file per worker of 200000 and 800 per batch.\n",
      "INFO:Done. 1275077 were indexed in 2.2801962692664044 minutes.  Total accumulated time spent in `bulk` indexing: 7.852303329568046 minutes\n"
     ]
    }
   ],
   "source": [
    "# Delete index\n",
    "!curl -k -X DELETE -u admin:admin https://localhost:9200/bbuy_products\n",
    "\n",
    "# Index with default mappings\n",
    "!curl -k -X PUT -u admin:admin \"https://$HOST:9200/bbuy_products\" -H 'Content-Type: application/json' -d @/workspace/search_engineering/week1/bbuy_products_no_map.json\n",
    "!python index.py -s $BBUY_DATA --batch_size 800"
   ]
  },
  {
   "cell_type": "code",
   "execution_count": 43,
   "metadata": {},
   "outputs": [
    {
     "name": "stdout",
     "output_type": "stream",
     "text": [
      "{\"acknowledged\":true}{\"acknowledged\":true,\"shards_acknowledged\":true,\"index\":\"bbuy_products\"}INFO:Indexing /workspace/datasets/product_data/products/ to bbuy_products with 8 workers, refresh_interval of -1 to host localhost with a maximum number of docs sent per file per worker of 200000 and 1600 per batch.\n",
      "INFO:Done. 1275077 were indexed in 2.5825834213833634 minutes.  Total accumulated time spent in `bulk` indexing: 9.253081009297846 minutes\n"
     ]
    }
   ],
   "source": [
    "# Delete index\n",
    "!curl -k -X DELETE -u admin:admin https://localhost:9200/bbuy_products\n",
    "\n",
    "# Index with default mappings\n",
    "!curl -k -X PUT -u admin:admin \"https://$HOST:9200/bbuy_products\" -H 'Content-Type: application/json' -d @/workspace/search_engineering/week1/bbuy_products_no_map.json\n",
    "!python index.py -s $BBUY_DATA --batch_size 1600"
   ]
  },
  {
   "cell_type": "code",
   "execution_count": 44,
   "metadata": {},
   "outputs": [
    {
     "name": "stdout",
     "output_type": "stream",
     "text": [
      "{\"acknowledged\":true}{\"acknowledged\":true,\"shards_acknowledged\":true,\"index\":\"bbuy_products\"}INFO:Indexing /workspace/datasets/product_data/products/ to bbuy_products with 8 workers, refresh_interval of -1 to host localhost with a maximum number of docs sent per file per worker of 200000 and 3200 per batch.\n",
      "INFO:Done. 1275077 were indexed in 2.1275613109833404 minutes.  Total accumulated time spent in `bulk` indexing: 7.271591539253617 minutes\n"
     ]
    }
   ],
   "source": [
    "# Delete index\n",
    "!curl -k -X DELETE -u admin:admin https://localhost:9200/bbuy_products\n",
    "\n",
    "# Index with default mappings\n",
    "!curl -k -X PUT -u admin:admin \"https://$HOST:9200/bbuy_products\" -H 'Content-Type: application/json' -d @/workspace/search_engineering/week1/bbuy_products_no_map.json\n",
    "!python index.py -s $BBUY_DATA --batch_size 3200"
   ]
  },
  {
   "cell_type": "code",
   "execution_count": 45,
   "metadata": {},
   "outputs": [
    {
     "name": "stdout",
     "output_type": "stream",
     "text": [
      "{\"acknowledged\":true}{\"acknowledged\":true,\"shards_acknowledged\":true,\"index\":\"bbuy_products\"}INFO:Indexing /workspace/datasets/product_data/products/ to bbuy_products with 8 workers, refresh_interval of -1 to host localhost with a maximum number of docs sent per file per worker of 200000 and 5000 per batch.\n",
      "INFO:Done. 1275077 were indexed in 1.8943774112170406 minutes.  Total accumulated time spent in `bulk` indexing: 6.500708215699221 minutes\n"
     ]
    }
   ],
   "source": [
    "# Delete index\n",
    "!curl -k -X DELETE -u admin:admin https://localhost:9200/bbuy_products\n",
    "\n",
    "# Index with default mappings\n",
    "!curl -k -X PUT -u admin:admin \"https://$HOST:9200/bbuy_products\" -H 'Content-Type: application/json' -d @/workspace/search_engineering/week1/bbuy_products_no_map.json\n",
    "!python index.py -s $BBUY_DATA --batch_size 5000"
   ]
  },
  {
   "attachments": {},
   "cell_type": "markdown",
   "metadata": {},
   "source": [
    "## Worker count\n",
    "- More works is better, up till a point (4)"
   ]
  },
  {
   "cell_type": "code",
   "execution_count": 46,
   "metadata": {},
   "outputs": [
    {
     "name": "stdout",
     "output_type": "stream",
     "text": [
      "{\"acknowledged\":true}{\"acknowledged\":true,\"shards_acknowledged\":true,\"index\":\"bbuy_products\"}INFO:Indexing /workspace/datasets/product_data/products/ to bbuy_products with 2 workers, refresh_interval of -1 to host localhost with a maximum number of docs sent per file per worker of 200000 and 200 per batch.\n",
      "INFO:Done. 1275077 were indexed in 3.416948190666638 minutes.  Total accumulated time spent in `bulk` indexing: 3.1127306910270516 minutes\n"
     ]
    }
   ],
   "source": [
    "# Delete index\n",
    "!curl -k -X DELETE -u admin:admin https://localhost:9200/bbuy_products\n",
    "\n",
    "# Index with default mappings\n",
    "!curl -k -X PUT -u admin:admin \"https://$HOST:9200/bbuy_products\" -H 'Content-Type: application/json' -d @/workspace/search_engineering/week1/bbuy_products_no_map.json\n",
    "!python index.py -s $BBUY_DATA --workers 2"
   ]
  },
  {
   "cell_type": "code",
   "execution_count": 47,
   "metadata": {},
   "outputs": [
    {
     "name": "stdout",
     "output_type": "stream",
     "text": [
      "{\"acknowledged\":true}{\"acknowledged\":true,\"shards_acknowledged\":true,\"index\":\"bbuy_products\"}INFO:Indexing /workspace/datasets/product_data/products/ to bbuy_products with 4 workers, refresh_interval of -1 to host localhost with a maximum number of docs sent per file per worker of 200000 and 200 per batch.\n",
      "INFO:Done. 1275077 were indexed in 1.9412308881500697 minutes.  Total accumulated time spent in `bulk` indexing: 3.8542129833382206 minutes\n"
     ]
    }
   ],
   "source": [
    "# Delete index\n",
    "!curl -k -X DELETE -u admin:admin https://localhost:9200/bbuy_products\n",
    "\n",
    "# Index with default mappings\n",
    "!curl -k -X PUT -u admin:admin \"https://$HOST:9200/bbuy_products\" -H 'Content-Type: application/json' -d @/workspace/search_engineering/week1/bbuy_products_no_map.json\n",
    "!python index.py -s $BBUY_DATA --workers 4"
   ]
  },
  {
   "cell_type": "code",
   "execution_count": 48,
   "metadata": {},
   "outputs": [
    {
     "name": "stdout",
     "output_type": "stream",
     "text": [
      "{\"acknowledged\":true}{\"acknowledged\":true,\"shards_acknowledged\":true,\"index\":\"bbuy_products\"}INFO:Indexing /workspace/datasets/product_data/products/ to bbuy_products with 8 workers, refresh_interval of -1 to host localhost with a maximum number of docs sent per file per worker of 200000 and 200 per batch.\n",
      "INFO:Done. 1275077 were indexed in 2.008232675149823 minutes.  Total accumulated time spent in `bulk` indexing: 7.589799960780268 minutes\n"
     ]
    }
   ],
   "source": [
    "# Delete index\n",
    "!curl -k -X DELETE -u admin:admin https://localhost:9200/bbuy_products\n",
    "\n",
    "# Index with default mappings\n",
    "!curl -k -X PUT -u admin:admin \"https://$HOST:9200/bbuy_products\" -H 'Content-Type: application/json' -d @/workspace/search_engineering/week1/bbuy_products_no_map.json\n",
    "!python index.py -s $BBUY_DATA --workers 8"
   ]
  },
  {
   "cell_type": "code",
   "execution_count": 49,
   "metadata": {},
   "outputs": [
    {
     "name": "stdout",
     "output_type": "stream",
     "text": [
      "{\"acknowledged\":true}{\"acknowledged\":true,\"shards_acknowledged\":true,\"index\":\"bbuy_products\"}INFO:Indexing /workspace/datasets/product_data/products/ to bbuy_products with 16 workers, refresh_interval of -1 to host localhost with a maximum number of docs sent per file per worker of 200000 and 200 per batch.\n",
      "INFO:Done. 1275077 were indexed in 3.1152460792000056 minutes.  Total accumulated time spent in `bulk` indexing: 25.727708799493847 minutes\n"
     ]
    }
   ],
   "source": [
    "# Delete index\n",
    "!curl -k -X DELETE -u admin:admin https://localhost:9200/bbuy_products\n",
    "\n",
    "# Index with default mappings\n",
    "!curl -k -X PUT -u admin:admin \"https://$HOST:9200/bbuy_products\" -H 'Content-Type: application/json' -d @/workspace/search_engineering/week1/bbuy_products_no_map.json\n",
    "!python index.py -s $BBUY_DATA --workers 16"
   ]
  },
  {
   "cell_type": "markdown",
   "metadata": {},
   "source": [
    "## Level 2"
   ]
  },
  {
   "cell_type": "code",
   "execution_count": 17,
   "metadata": {},
   "outputs": [
    {
     "name": "stdout",
     "output_type": "stream",
     "text": [
      "{\"acknowledged\":true}{\"acknowledged\":true,\"shards_acknowledged\":true,\"index\":\"bbuy_products\"}INFO:Indexing /workspace/datasets/product_data/products/ to bbuy_products with 8 workers, refresh_interval of 60s to host localhost with a maximum number of docs sent per file per worker of 200000 and 5000 per batch.\n",
      "INFO:Done. 1275077 were indexed in 12.747937300683407 minutes.  Total accumulated time spent in `bulk` indexing: 37.63850982505343 minutes\n"
     ]
    }
   ],
   "source": [
    "# Delete index\n",
    "!curl -k -X DELETE -u admin:admin https://localhost:9200/bbuy_products\n",
    "\n",
    "# Index with provided field mappings\n",
    "!curl -k -X PUT -u admin:admin \"https://$HOST:9200/bbuy_products\" -H 'Content-Type: application/json' -d @/workspace/search_engineering/week1/bbuy_products.json\n",
    "!python index.py -s $BBUY_DATA --refresh_interval 60s --batch_size 5000"
   ]
  },
  {
   "cell_type": "code",
   "execution_count": 21,
   "metadata": {},
   "outputs": [],
   "source": [
    "os.environ['QUERY_FILE'] = '/workspace/datasets/train.csv'"
   ]
  },
  {
   "cell_type": "code",
   "execution_count": 22,
   "metadata": {},
   "outputs": [
    {
     "name": "stdout",
     "output_type": "stream",
     "text": [
      "INFO:Loading query file from /workspace/datasets/train.csv\n",
      "INFO:Running queries, checking in every 1000 queries:\n",
      "INFO:Query: Bad teacher has 10 hits.\n",
      "INFO:Query: martin has 10 hits.\n",
      "INFO:Query: netgear n has 10 hits.\n",
      "INFO:Query: iPad case has 10 hits.\n",
      "INFO:Query: digital tv converter has 10 hits.\n",
      "INFO:Query: Bluetooth has 10 hits.\n",
      "INFO:Query: Xbox 360 battery charger has 10 hits.\n",
      "INFO:Query: Bose sound dock has 10 hits.\n",
      "INFO:Query: HP touchpad has 10 hits.\n",
      "INFO:Query: rechargeable batteries has 10 hits.\n",
      "INFO:Finished running 10000 queries in 3.0797756292663205 minutes\n"
     ]
    }
   ],
   "source": [
    "!python query.py --query_file $QUERY_FILE --max_queries 10000"
   ]
  },
  {
   "cell_type": "code",
   "execution_count": 28,
   "metadata": {},
   "outputs": [
    {
     "name": "stdout",
     "output_type": "stream",
     "text": [
      "INFO:Loading query file from /workspace/datasets/train.csv\n",
      "INFO:Running queries, checking in every 1000 queries:\n",
      "INFO:Query: Bad teacher has 5 hits.\n",
      "INFO:Query: martin has 10 hits.\n",
      "INFO:Query: netgear n has 10 hits.\n",
      "INFO:Query: iPad case has 10 hits.\n",
      "INFO:Query: digital tv converter has 10 hits.\n",
      "INFO:Query: Bluetooth has 10 hits.\n",
      "INFO:Query: Xbox 360 battery charger has 10 hits.\n",
      "INFO:Query: Bose sound dock has 10 hits.\n",
      "INFO:Query: HP touchpad has 10 hits.\n",
      "INFO:Query: rechargeable batteries has 10 hits.\n",
      "INFO:Finished running 10000 queries in 1.583093975750186 minutes\n"
     ]
    }
   ],
   "source": [
    "# Change the name matching field to no longer be a fuzzy match.\n",
    "!python query.py --query_file $QUERY_FILE --max_queries 10000"
   ]
  },
  {
   "cell_type": "code",
   "execution_count": 29,
   "metadata": {},
   "outputs": [
    {
     "name": "stdout",
     "output_type": "stream",
     "text": [
      "INFO:Loading query file from /workspace/datasets/train.csv\n",
      "INFO:Running queries, checking in every 1000 queries:\n",
      "INFO:Query: Bad teacher has 5 hits.\n",
      "INFO:Query: martin has 10 hits.\n",
      "INFO:Query: netgear n has 10 hits.\n",
      "INFO:Query: iPad case has 10 hits.\n",
      "INFO:Query: digital tv converter has 10 hits.\n",
      "INFO:Query: Bluetooth has 10 hits.\n",
      "INFO:Query: Xbox 360 battery charger has 10 hits.\n",
      "INFO:Query: Bose sound dock has 10 hits.\n",
      "INFO:Query: HP touchpad has 10 hits.\n",
      "INFO:Query: rechargeable batteries has 10 hits.\n",
      "INFO:Finished running 10000 queries in 1.331303205349832 minutes\n"
     ]
    }
   ],
   "source": [
    "# Drop the function scores\n",
    "!python query.py --query_file $QUERY_FILE --max_queries 10000"
   ]
  },
  {
   "cell_type": "code",
   "execution_count": 30,
   "metadata": {},
   "outputs": [
    {
     "name": "stdout",
     "output_type": "stream",
     "text": [
      "INFO:Loading query file from /workspace/datasets/train.csv\n",
      "INFO:Running queries, checking in every 1000 queries:\n",
      "INFO:Query: Bad teacher has 5 hits.\n",
      "INFO:Query: martin has 10 hits.\n",
      "INFO:Query: netgear n has 10 hits.\n",
      "INFO:Query: iPad case has 10 hits.\n",
      "INFO:Query: digital tv converter has 10 hits.\n",
      "INFO:Query: Bluetooth has 10 hits.\n",
      "INFO:Query: Bose sound dock has 10 hits.\n",
      "INFO:Query: HP touchpad has 10 hits.\n",
      "INFO:Query: rechargeable batteries has 10 hits.\n",
      "INFO:Finished running 10000 queries in 1.031394305100063 minutes\n"
     ]
    }
   ],
   "source": [
    "# Drop every other matching function except the multi_match\n",
    "!python query.py --query_file $QUERY_FILE --max_queries 10000"
   ]
  },
  {
   "cell_type": "code",
   "execution_count": 31,
   "metadata": {},
   "outputs": [
    {
     "name": "stdout",
     "output_type": "stream",
     "text": [
      "INFO:Loading query file from /workspace/datasets/train.csv\n",
      "INFO:Running queries, checking in every 1000 queries:\n",
      "INFO:Query: Bad teacher has 5 hits.\n",
      "INFO:Query: martin has 10 hits.\n",
      "INFO:Query: netgear n has 10 hits.\n",
      "INFO:Query: iPad case has 10 hits.\n",
      "INFO:Query: digital tv converter has 8 hits.\n",
      "INFO:Query: Bluetooth has 10 hits.\n",
      "INFO:Query: HP touchpad has 10 hits.\n",
      "INFO:Query: rechargeable batteries has 10 hits.\n",
      "INFO:Finished running 10000 queries in 0.7386545902166594 minutes\n"
     ]
    }
   ],
   "source": [
    "# Last, but not least, change the multi_match to only search the name and shortDescription field.\n",
    "!python query.py --query_file $QUERY_FILE --max_queries 10000"
   ]
  },
  {
   "cell_type": "code",
   "execution_count": null,
   "metadata": {},
   "outputs": [],
   "source": []
  }
 ],
 "metadata": {
  "kernelspec": {
   "display_name": "Python 3 (ipykernel)",
   "language": "python",
   "name": "python3"
  },
  "language_info": {
   "codemirror_mode": {
    "name": "ipython",
    "version": 3
   },
   "file_extension": ".py",
   "mimetype": "text/x-python",
   "name": "python",
   "nbconvert_exporter": "python",
   "pygments_lexer": "ipython3",
   "version": "3.9.7"
  },
  "orig_nbformat": 4
 },
 "nbformat": 4,
 "nbformat_minor": 2
}
